{
 "cells": [
  {
   "cell_type": "markdown",
   "metadata": {
    "id": "5MHirFrxPS-T"
   },
   "source": [
    "## Question 1: Download NLTK\n",
    "\n",
    "Please run the following code. text"
   ]
  },
  {
   "cell_type": "code",
   "execution_count": 4,
   "metadata": {
    "colab": {
     "base_uri": "https://localhost:8080/",
     "height": 681
    },
    "executionInfo": {
     "elapsed": 17829,
     "status": "error",
     "timestamp": 1629830345801,
     "user": {
      "displayName": "Lelia Glass",
      "photoUrl": "https://lh3.googleusercontent.com/a-/AOh14Ggto8ET9u52j0dToj9z_8G1aIgATHxCDkbMe5epTQ=s64",
      "userId": "02421567402523508095"
     },
     "user_tz": 240
    },
    "id": "Exd6j6qMPS-U",
    "outputId": "8186e319-6ed5-4fe9-a467-c4d4e40b95e2"
   },
   "outputs": [
    {
     "name": "stdout",
     "output_type": "stream",
     "text": [
      "showing info https://raw.githubusercontent.com/nltk/nltk_data/gh-pages/index.xml\n"
     ]
    },
    {
     "name": "stderr",
     "output_type": "stream",
     "text": [
      "invalid command name \"139916191358400set\"\n",
      "    while executing\n",
      "\"139916191358400set\"\n",
      "    (\"after\" script)\n",
      "invalid command name \"139916191295280set\"\n",
      "    while executing\n",
      "\"139916191295280set\"\n",
      "    (\"after\" script)\n"
     ]
    },
    {
     "data": {
      "text/plain": [
       "True"
      ]
     },
     "execution_count": 4,
     "metadata": {},
     "output_type": "execute_result"
    }
   ],
   "source": [
    "import nltk\n",
    "nltk.download()"
   ]
  },
  {
   "cell_type": "code",
   "execution_count": 5,
   "metadata": {
    "colab": {
     "base_uri": "https://localhost:8080/"
    },
    "executionInfo": {
     "elapsed": 89,
     "status": "ok",
     "timestamp": 1629830349111,
     "user": {
      "displayName": "Lelia Glass",
      "photoUrl": "https://lh3.googleusercontent.com/a-/AOh14Ggto8ET9u52j0dToj9z_8G1aIgATHxCDkbMe5epTQ=s64",
      "userId": "02421567402523508095"
     },
     "user_tz": 240
    },
    "id": "j-qvYAbQPbSI",
    "outputId": "de1b352f-93a3-43e8-f0a3-258425d9d270"
   },
   "outputs": [
    {
     "data": {
      "text/plain": [
       "2"
      ]
     },
     "execution_count": 5,
     "metadata": {},
     "output_type": "execute_result"
    }
   ],
   "source": [
    "z = 1\n",
    "z + 1"
   ]
  },
  {
   "cell_type": "markdown",
   "metadata": {
    "id": "XUwEL4vbPS-c"
   },
   "source": [
    "## Question 2: Download the Gutenberg Corpus."
   ]
  },
  {
   "cell_type": "code",
   "execution_count": 6,
   "metadata": {
    "colab": {
     "base_uri": "https://localhost:8080/"
    },
    "executionInfo": {
     "elapsed": 552,
     "status": "ok",
     "timestamp": 1629753932652,
     "user": {
      "displayName": "Lelia Glass",
      "photoUrl": "https://lh3.googleusercontent.com/a-/AOh14Ggto8ET9u52j0dToj9z_8G1aIgATHxCDkbMe5epTQ=s64",
      "userId": "02421567402523508095"
     },
     "user_tz": 240
    },
    "id": "f6n-qfSzPS-d",
    "outputId": "edc3a2db-8735-423f-8271-3a726ec09fdc"
   },
   "outputs": [
    {
     "name": "stderr",
     "output_type": "stream",
     "text": [
      "[nltk_data] Downloading package gutenberg to /home/maki/nltk_data...\n",
      "[nltk_data]   Package gutenberg is already up-to-date!\n"
     ]
    },
    {
     "data": {
      "text/plain": [
       "True"
      ]
     },
     "execution_count": 6,
     "metadata": {},
     "output_type": "execute_result"
    }
   ],
   "source": [
    "nltk.download('gutenberg')"
   ]
  },
  {
   "cell_type": "code",
   "execution_count": 7,
   "metadata": {
    "id": "hKcKdXJfPS-g",
    "outputId": "24d7541c-6fdb-4279-c83c-5a6afc4cc0d8"
   },
   "outputs": [
    {
     "data": {
      "text/plain": [
       "['austen-emma.txt',\n",
       " 'austen-persuasion.txt',\n",
       " 'austen-sense.txt',\n",
       " 'bible-kjv.txt',\n",
       " 'blake-poems.txt',\n",
       " 'bryant-stories.txt',\n",
       " 'burgess-busterbrown.txt',\n",
       " 'carroll-alice.txt',\n",
       " 'chesterton-ball.txt',\n",
       " 'chesterton-brown.txt',\n",
       " 'chesterton-thursday.txt',\n",
       " 'edgeworth-parents.txt',\n",
       " 'melville-moby_dick.txt',\n",
       " 'milton-paradise.txt',\n",
       " 'shakespeare-caesar.txt',\n",
       " 'shakespeare-hamlet.txt',\n",
       " 'shakespeare-macbeth.txt',\n",
       " 'whitman-leaves.txt']"
      ]
     },
     "execution_count": 7,
     "metadata": {},
     "output_type": "execute_result"
    }
   ],
   "source": [
    "nltk.corpus.gutenberg.fileids()\n"
   ]
  },
  {
   "cell_type": "markdown",
   "metadata": {
    "id": "DZ-TrsVrPS-l"
   },
   "source": [
    "## Question 3: Print out the number of words in the book \"Emma.\""
   ]
  },
  {
   "cell_type": "code",
   "execution_count": 8,
   "metadata": {
    "colab": {
     "base_uri": "https://localhost:8080/"
    },
    "executionInfo": {
     "elapsed": 243,
     "status": "ok",
     "timestamp": 1629753984542,
     "user": {
      "displayName": "Lelia Glass",
      "photoUrl": "https://lh3.googleusercontent.com/a-/AOh14Ggto8ET9u52j0dToj9z_8G1aIgATHxCDkbMe5epTQ=s64",
      "userId": "02421567402523508095"
     },
     "user_tz": 240
    },
    "id": "nc5189sSPS-m",
    "outputId": "38719dfc-1970-454b-d3e3-155461eb6b4b"
   },
   "outputs": [
    {
     "name": "stdout",
     "output_type": "stream",
     "text": [
      "192427\n"
     ]
    }
   ],
   "source": [
    "from nltk.corpus import gutenberg\n",
    "\n",
    "emma = gutenberg.words('austen-emma.txt')\n",
    "\n",
    "print(len(emma))"
   ]
  },
  {
   "cell_type": "markdown",
   "metadata": {
    "id": "IHyJDneqPS-p"
   },
   "source": [
    "## Question 4:  Pre-Assessment\n",
    "Please indicate what you already know about the following topics.  Which ones are you the most excited to learn about, and why?\n",
    "- spell-check/grammar-check\n",
    "- computer-assisted language learning\n",
    "- search\n",
    "- document classification\n",
    "- machine translation\n",
    "- dialog\n",
    "- vector semantics\n",
    "- text as data"
   ]
  },
  {
   "cell_type": "markdown",
   "metadata": {
    "id": "LmCPUOVPcuo_"
   },
   "source": [
    "### Your answer to Question 4\n",
    "\n",
    "- spell-check/grammar-check\n",
    "\n",
    "For spell-check, usually software like Microsoft Word provide such service. Each word is compared to words in the database and if they're very similiar, Word underlines it and suggestion revision. Such function works for other languages as well such as Mandarin. For grammar check, I think Grammarly has their own neutral network models that check the syntax of sentences.\n",
    "\n",
    "- computer-assisted language learning\n",
    "\n",
    "Computer-assisted language learning is when users learn a language from computer-based resources such as website or applications. One example is Duolinguo. Users can approach a foreign language by compeleting the interactive excersives from intro level to professional levels. \n",
    "\n",
    "- search\n",
    "\n",
    "Search is to find records matching the query provided by the user. For example, Google search gives results of website containing target words or phrases. \n",
    "\n",
    "- document classification\n",
    "\n",
    "Classifiers assign one or more tags to a document. By classifying the documents, it is easier to manage larger number of documents and sort them in order. \n",
    "\n",
    "- machine translation\n",
    "\n",
    "Machine translation allows users to provide text in a foreign language, and get the results in their own target language generated by the engine. No human translators are involved in the process. The result is based on software generated results only and may not fully preserve the meanings of the original text. \n",
    "\n",
    "- dialog\n",
    "\n",
    "Dialog is the conversation between two or more people/ agents. It usually involves question answering, or sentences from different people on the same topic with logical relationship. We usually refer to chatbots when discussing about dialog in NLP study. \n",
    "\n",
    "- vector semantics \n",
    "\n",
    "Vector semantics is the representation of a word in multi dimensional space. Vector semantics contains all the information of a word. For example, there could be connections between words with the same root, and words within the same discipline. We can check the distance between words by checking the word vector. We can also check whether a word is negative or positive via word vector. \n",
    "\n",
    "- text as data\n",
    "\n",
    "Text is a form of data and we can do data analysis for text data, such as phone call transcripts and text from literature. Text as data allows researchers to use machine learning tools to categorize existing texts and represent texts in a systematic manner."
   ]
  },
  {
   "cell_type": "code",
   "execution_count": 15,
   "metadata": {
    "id": "so3dcieMPS-q",
    "outputId": "7e76c7c0-1970-4f17-8908-1485d373c2a1"
   },
   "outputs": [
    {
     "name": "stdout",
     "output_type": "stream",
     "text": [
      "rocks : rock\n",
      "corpora : corpus\n",
      "better : good\n",
      "sisters-in-law : sisters-in-law\n"
     ]
    }
   ],
   "source": [
    "from nltk.stem import WordNetLemmatizer\n",
    "\n",
    "lemmatizer = WordNetLemmatizer() \n",
    "\n",
    "print(\"rocks :\", lemmatizer.lemmatize(\"rocks\")) \n",
    "print(\"corpora :\", lemmatizer.lemmatize(\"corpora\")) \n",
    "  \n",
    "# a denotes adjective in \"pos\" \n",
    "print(\"better :\", lemmatizer.lemmatize(\"better\", pos =\"a\"))\n",
    "\n",
    "# a denotes adjective in \"pos\" \n",
    "print(\"sisters-in-law :\", lemmatizer.lemmatize(\"sisters-in-law\"))"
   ]
  },
  {
   "cell_type": "markdown",
   "metadata": {
    "id": "1qda6cjTPS-t"
   },
   "source": [
    "## Question 5\n",
    "\n",
    "What has just happened here?"
   ]
  },
  {
   "cell_type": "markdown",
   "metadata": {
    "id": "qkjYbwFxcupC"
   },
   "source": [
    "### Your answer to Question 5\n",
    "\n",
    "WordNetLemmatizer returns the lemma of the input word. The first two examples \"rocks\" and \"corpora\" didn's use POS tag. The Lemmatizer recognizes them as noun and return the singular forms \"rock\" and \"corpus\". The third example denotes the part of speech as adjective. Therefore the lemmatizer return \"good\" instead of \"well\". For the \"sisters-in-law\" example, the tokenizer finds the root/ stemming of the word and removed the plural form of \"sisters\". "
   ]
  },
  {
   "cell_type": "code",
   "execution_count": 16,
   "metadata": {
    "id": "q0h6vncaPS-t",
    "outputId": "275d6817-7449-450c-b4c7-1bdef58c335c"
   },
   "outputs": [
    {
     "data": {
      "text/plain": [
       "[('And', 'CC'),\n",
       " ('now', 'RB'),\n",
       " ('for', 'IN'),\n",
       " ('something', 'NN'),\n",
       " ('completely', 'RB'),\n",
       " ('different', 'JJ')]"
      ]
     },
     "execution_count": 16,
     "metadata": {},
     "output_type": "execute_result"
    }
   ],
   "source": [
    "text = nltk.word_tokenize(\"And now for something completely different\")\n",
    "nltk.pos_tag(text)\n"
   ]
  },
  {
   "cell_type": "code",
   "execution_count": null,
   "metadata": {
    "id": "ldVb6jCXPS-y",
    "outputId": "538eec9c-37bc-46f7-db72-cffc189be5c8"
   },
   "outputs": [
    {
     "data": {
      "text/plain": [
       "[('Being', 'VBG'),\n",
       " ('confused', 'VBN'),\n",
       " ('is', 'VBZ'),\n",
       " ('part', 'NN'),\n",
       " ('of', 'IN'),\n",
       " ('learning', 'VBG')]"
      ]
     },
     "execution_count": 8,
     "metadata": {},
     "output_type": "execute_result"
    }
   ],
   "source": [
    "text = nltk.word_tokenize(\"Being confused is part of learning\")\n",
    "\n",
    "nltk.pos_tag(text)"
   ]
  },
  {
   "cell_type": "markdown",
   "metadata": {
    "id": "PuMsHPHXPS-0"
   },
   "source": [
    "## Question 6"
   ]
  },
  {
   "cell_type": "markdown",
   "metadata": {
    "id": "Wxv9DfNIPS-1"
   },
   "source": [
    "What has just happened here? (See here https://pythonprogramming.net/natural-language-toolkit-nltk-part-speech-tagging/ for hints.)"
   ]
  },
  {
   "cell_type": "markdown",
   "metadata": {
    "id": "a-j7xf68cupD"
   },
   "source": [
    "### Your answer to Question 6\n",
    "\n",
    "Thhe tokenizer essentially seperate the words in a sentence, so we can do word level analysis. It returns an array of words (strings). \n",
    "\n",
    "The pos_tag method prints the part of speech of each word in the array. For example, \"Being\" is recognized as gerund/present participle taking form of the verb \"be\". \"part\" is recognized as a singular form of the noun \"part\". \n",
    "\n",
    "The POS tags allow other operations to be more accurate. When lemmatize a word, after knowing the part of speech, the program can return a result stemming word / word lemma with consistent grammatical function/ part of speech as the original word in the context of the whole sentence. "
   ]
  },
  {
   "cell_type": "code",
   "execution_count": 35,
   "metadata": {
    "id": "gKFATYyXPS-1",
    "outputId": "558d86ea-e36b-41b9-838a-0c82132b8089"
   },
   "outputs": [
    {
     "name": "stdout",
     "output_type": "stream",
     "text": [
      "<Text: Inaugural Address Corpus>\n",
      "<Text: The Book of Genesis>\n"
     ]
    }
   ],
   "source": [
    "# Exercises adapted from here: https://www.nltk.org/book/ch01.html\n",
    "\n",
    "# If you get any errors here, you can just run:\n",
    "# nltk.download(\"NAME OF WHATEVER YOU ARE MISSING\")\n",
    "\n",
    "from nltk.book import text3, text4\n",
    "\n",
    "genesis = text3\n",
    "\n",
    "inaug = text4\n",
    "\n",
    "print(inaug)\n",
    "print(genesis)\n"
   ]
  },
  {
   "cell_type": "code",
   "execution_count": 19,
   "metadata": {
    "id": "PS-FEqpIPS-3",
    "outputId": "40cc0b0f-6a74-4448-c1ef-0c7876384870"
   },
   "outputs": [
    {
     "data": {
      "text/plain": [
       "['Fellow',\n",
       " '-',\n",
       " 'Citizens',\n",
       " 'of',\n",
       " 'the',\n",
       " 'Senate',\n",
       " 'and',\n",
       " 'of',\n",
       " 'the',\n",
       " 'House',\n",
       " 'of',\n",
       " 'Representatives',\n",
       " ':',\n",
       " 'Among',\n",
       " 'the']"
      ]
     },
     "execution_count": 19,
     "metadata": {},
     "output_type": "execute_result"
    }
   ],
   "source": [
    "inaug[:15]"
   ]
  },
  {
   "cell_type": "code",
   "execution_count": 20,
   "metadata": {
    "id": "4GuBxzksPS-5",
    "outputId": "c7875161-d610-4305-e72c-b9bbef29ca7c"
   },
   "outputs": [
    {
     "data": {
      "text/plain": [
       "['bless',\n",
       " 'you',\n",
       " ',',\n",
       " 'and',\n",
       " 'God',\n",
       " 'bless',\n",
       " 'America',\n",
       " '.',\n",
       " 'Thank',\n",
       " 'you',\n",
       " '.',\n",
       " 'God',\n",
       " 'bless',\n",
       " 'America',\n",
       " '.']"
      ]
     },
     "execution_count": 20,
     "metadata": {},
     "output_type": "execute_result"
    }
   ],
   "source": [
    "inaug[-15:]"
   ]
  },
  {
   "cell_type": "code",
   "execution_count": 21,
   "metadata": {
    "id": "Xdxlmd9RPS-8",
    "outputId": "26d28e29-4e47-49b1-ce49-67d23d2cc582"
   },
   "outputs": [
    {
     "data": {
      "text/plain": [
       "['In',\n",
       " 'the',\n",
       " 'beginning',\n",
       " 'God',\n",
       " 'created',\n",
       " 'the',\n",
       " 'heaven',\n",
       " 'and',\n",
       " 'the',\n",
       " 'earth',\n",
       " '.',\n",
       " 'And',\n",
       " 'the',\n",
       " 'earth',\n",
       " 'was']"
      ]
     },
     "execution_count": 21,
     "metadata": {},
     "output_type": "execute_result"
    }
   ],
   "source": [
    "genesis[:15]"
   ]
  },
  {
   "cell_type": "code",
   "execution_count": 22,
   "metadata": {
    "id": "sF1Yj0ZqPS--",
    "outputId": "7967b012-f2b4-49a1-ad4e-2baf71fa0250"
   },
   "outputs": [
    {
     "data": {
      "text/plain": [
       "['and',\n",
       " 'they',\n",
       " 'embalmed',\n",
       " 'him',\n",
       " ',',\n",
       " 'and',\n",
       " 'he',\n",
       " 'was',\n",
       " 'put',\n",
       " 'in',\n",
       " 'a',\n",
       " 'coffin',\n",
       " 'in',\n",
       " 'Egypt',\n",
       " '.']"
      ]
     },
     "execution_count": 22,
     "metadata": {},
     "output_type": "execute_result"
    }
   ],
   "source": [
    "genesis[-15:]"
   ]
  },
  {
   "cell_type": "code",
   "execution_count": 23,
   "metadata": {
    "id": "6H76n_c5PS_C",
    "outputId": "a5732d78-f4db-426a-ecc8-2416fcb30512"
   },
   "outputs": [
    {
     "name": "stdout",
     "output_type": "stream",
     "text": [
      "Displaying 25 of 584 matches:\n",
      " the liberties and happiness of the people of the United States a Government i\n",
      "zens at large less than either . No people can be bound to acknowledge and ado\n",
      "rusted to the hands of the American people . Besides the ordinary objects subm\n",
      " been pleased to favor the American people with opportunities for deliberating\n",
      "which has been reposed in me by the people of united America . Previous to the\n",
      "e integrity and intelligence of the people , under an overruling Providence wh\n",
      "rtainty . The zeal and ardor of the people during the Revolutionary war , supp\n",
      "d certainly the only ones which the people at large had ever considered . But \n",
      "mity . In this dangerous crisis the people of America were not abandoned by th\n",
      "ny alteration in it but such as the people themselves , in the course of their\n",
      "gments of an honest and enlightened people ? For it is the people only that ar\n",
      " enlightened people ? For it is the people only that are represented . It is t\n",
      "ue throughout the whole body of the people . And what object or consideration \n",
      "y not be the choice of the American people , but of foreign nations . It may b\n",
      "ns who govern us , and not we , the people , who govern ourselves ; and candid\n",
      "which it may be exposed ) which the people of America have exhibited to the ad\n",
      "ance , and fortitude , conducting a people inspired with the same virtues and \n",
      "e voice of the legislatures and the people throughout the nation . On this sub\n",
      " by the judgments and wishes of the people , expressed in the mode prescribed \n",
      "d religion among all classes of the people , not only for their benign influen\n",
      "onscious honor and integrity of the people of America and the internal sentime\n",
      "rit , and resources of the American people , on which I have so often hazarded\n",
      "nd intellectual improvements of the people deeply engraven on my mind in early\n",
      " a veneration for the religion of a people who profess and call themselves Chr\n",
      "and interest , of the same American people pledged to support the Constitution\n"
     ]
    }
   ],
   "source": [
    "inaug.concordance(\"people\")"
   ]
  },
  {
   "cell_type": "code",
   "execution_count": 24,
   "metadata": {
    "id": "49tCJ9GGPS_D",
    "outputId": "f3d0d7a1-eea3-4e5e-eba5-65bcf14a948f"
   },
   "outputs": [
    {
     "name": "stdout",
     "output_type": "stream",
     "text": [
      "Displaying 25 of 35 matches:\n",
      " . And the LORD said , Behold , the people is one , and they have all one lang\n",
      "oods , and the women also , and the people . And the king of Sodom went out to\n",
      "that soul shall be cut off from his people ; he hath broken my covenant . And \n",
      "l be a mother of nations ; kings of people shall be of her . Then Abraham fell\n",
      "ound , both old and young , all the people from every quart And they called un\n",
      "stood up , and bowed himself to the people of the land , even to the children \n",
      "; in the presence of the sons of my people give I it th bury thy dead . And Ab\n",
      "raham bowed down himself before the people of the land . And he spake unto Eph\n",
      " unto Ephron in the audience of the people of the land , saying , But if thou \n",
      " of years ; and was gathered to his people . And his sons Isaac and Ishmael bu\n",
      "nd died ; and was gathered unto his people . And they dwelt from Havilah unto \n",
      "are in thy womb , and two manner of people shall be separated from thy bowels \n",
      "rated from thy bowels ; and the one people shall be stronger than the other pe\n",
      "le shall be stronger than the other people ; and the elder shall serve the you\n",
      "thou hast done unto us ? one of the people might lightly have lien with thy wi\n",
      " us . And Abimelech charged all his people , saying , He that toucheth this ma\n",
      "rth , and plenty of corn and wi Let people serve thee , and nations bow down t\n",
      " that thou mayest be a multitude of people ; And give thee the blessing of Abr\n",
      "ney , and came into the land of the people of the east . And he looked , and b\n",
      "and distressed : and he divided the people that was with him , and the flocks \n",
      "l with you , and we will become one people . But if ye will not hearken unto u\n",
      "us for to dwell with us , to be one people , if every male among us be circumc\n",
      ", that is , Bethel , he and all the people that were with him . And he built t\n",
      "nd died , and was gathered unto his people , being old and full of da and his \n",
      "ccording unto thy word shall all my people be rul only in the throne will I be\n"
     ]
    }
   ],
   "source": [
    "genesis.concordance(\"people\")"
   ]
  },
  {
   "cell_type": "code",
   "execution_count": 25,
   "metadata": {
    "id": "jgzFjjDlPS_G",
    "outputId": "1579d5e4-ed5e-4d72-c307-dcd6d59c082d"
   },
   "outputs": [
    {
     "name": "stdout",
     "output_type": "stream",
     "text": [
      "government nation country world union constitution states time land\n",
      "republic citizens executive future law strength power way laws war\n",
      "peace\n"
     ]
    }
   ],
   "source": [
    "inaug.similar(\"people\")"
   ]
  },
  {
   "cell_type": "code",
   "execution_count": 26,
   "metadata": {
    "id": "0G9SZfjjPS_I",
    "outputId": "5d38b74b-57f6-433c-e7b0-2e72ba2ab0f1"
   },
   "outputs": [
    {
     "name": "stdout",
     "output_type": "stream",
     "text": [
      "land city earth cattle lord men dream day morning place man stone\n",
      "woman father children way brother sheep son house\n"
     ]
    }
   ],
   "source": [
    "genesis.similar(\"people\")"
   ]
  },
  {
   "cell_type": "markdown",
   "metadata": {
    "id": "RItFOVj5PS_K"
   },
   "source": [
    "Number of total word TOKENS in the Inaugural Address corpus (see here https://en.wikipedia.org/wiki/Type%E2%80%93token_distinction): "
   ]
  },
  {
   "cell_type": "code",
   "execution_count": 27,
   "metadata": {
    "id": "EzUJDwMOPS_L",
    "outputId": "6f58b2cf-2967-4236-bca9-432b39555b6a"
   },
   "outputs": [
    {
     "data": {
      "text/plain": [
       "149797"
      ]
     },
     "execution_count": 27,
     "metadata": {},
     "output_type": "execute_result"
    }
   ],
   "source": [
    "len(inaug)"
   ]
  },
  {
   "cell_type": "markdown",
   "metadata": {
    "id": "JiRU4q88PS_N"
   },
   "source": [
    "Number of distinct word TYPES in the Inaugural Address corpus:"
   ]
  },
  {
   "cell_type": "code",
   "execution_count": 28,
   "metadata": {
    "id": "jjBf6vENPS_N",
    "outputId": "9ef1b330-caf6-4820-9c40-669926ef9a43"
   },
   "outputs": [
    {
     "data": {
      "text/plain": [
       "9913"
      ]
     },
     "execution_count": 28,
     "metadata": {},
     "output_type": "execute_result"
    }
   ],
   "source": [
    "sorted(set(inaug))\n",
    "len(set(inaug))"
   ]
  },
  {
   "cell_type": "markdown",
   "metadata": {
    "id": "ntLOSlH2PS_Q"
   },
   "source": [
    "Type-token ratio"
   ]
  },
  {
   "cell_type": "code",
   "execution_count": 29,
   "metadata": {
    "id": "o3UX8fMfPS_Q",
    "outputId": "c8b38cae-f97f-4c8d-d042-7fbf5eacfd46"
   },
   "outputs": [
    {
     "data": {
      "text/plain": [
       "0.06617622515804722"
      ]
     },
     "execution_count": 29,
     "metadata": {},
     "output_type": "execute_result"
    }
   ],
   "source": [
    "len(set(inaug)) / len(inaug)"
   ]
  },
  {
   "cell_type": "markdown",
   "metadata": {
    "id": "ADwHnC2TPS_S"
   },
   "source": [
    "Number of word TOKENS in Genesis"
   ]
  },
  {
   "cell_type": "code",
   "execution_count": 30,
   "metadata": {
    "id": "WZGvz9wbPS_T",
    "outputId": "d000914c-ad78-4bcf-84da-2f159b016527"
   },
   "outputs": [
    {
     "data": {
      "text/plain": [
       "44764"
      ]
     },
     "execution_count": 30,
     "metadata": {},
     "output_type": "execute_result"
    }
   ],
   "source": [
    "len(genesis)"
   ]
  },
  {
   "cell_type": "markdown",
   "metadata": {
    "id": "3u1oLwZ5PS_V"
   },
   "source": [
    "Number of word TYPES in Genesis"
   ]
  },
  {
   "cell_type": "code",
   "execution_count": 31,
   "metadata": {
    "id": "OvTzB6IdPS_V",
    "outputId": "256eb960-9f55-4ce6-9009-4975c2c1e0fc"
   },
   "outputs": [
    {
     "data": {
      "text/plain": [
       "2789"
      ]
     },
     "execution_count": 31,
     "metadata": {},
     "output_type": "execute_result"
    }
   ],
   "source": [
    "sorted(set(genesis))\n",
    "len(set(genesis))"
   ]
  },
  {
   "cell_type": "markdown",
   "metadata": {
    "id": "yZ-pdL-9PS_X"
   },
   "source": [
    "Type-token ratio"
   ]
  },
  {
   "cell_type": "code",
   "execution_count": 32,
   "metadata": {
    "id": "VrQ4VP63PS_X",
    "outputId": "e129b098-cefc-43fd-991c-eb5b560330da"
   },
   "outputs": [
    {
     "data": {
      "text/plain": [
       "0.06230453042623537"
      ]
     },
     "execution_count": 32,
     "metadata": {},
     "output_type": "execute_result"
    }
   ],
   "source": [
    "len(set(genesis)) / len(genesis)"
   ]
  },
  {
   "cell_type": "markdown",
   "metadata": {
    "id": "gwuJcXngPS_Z"
   },
   "source": [
    "What percent of the Inaugural Address tokens is the word \"the\"?"
   ]
  },
  {
   "cell_type": "code",
   "execution_count": 33,
   "metadata": {
    "id": "eSnNDVisPS_a",
    "outputId": "48d6e469-31c2-48e2-8830-2185e51275c9"
   },
   "outputs": [
    {
     "data": {
      "text/plain": [
       "6.3058672737104215"
      ]
     },
     "execution_count": 33,
     "metadata": {},
     "output_type": "execute_result"
    }
   ],
   "source": [
    "100 * inaug.count('the') / len(inaug)"
   ]
  },
  {
   "cell_type": "markdown",
   "metadata": {
    "id": "exJlzYIFPS_c"
   },
   "source": [
    "What percent of Genesis tokens is the word \"the\"?"
   ]
  },
  {
   "cell_type": "code",
   "execution_count": 34,
   "metadata": {
    "id": "BFM9Sph7PS_d",
    "outputId": "112eb55e-95eb-4262-8069-9750efcc2f79"
   },
   "outputs": [
    {
     "data": {
      "text/plain": [
       "5.386024483960325"
      ]
     },
     "execution_count": 34,
     "metadata": {},
     "output_type": "execute_result"
    }
   ],
   "source": [
    "100 * genesis.count('the') / len(genesis)"
   ]
  },
  {
   "cell_type": "markdown",
   "metadata": {
    "id": "P_f0gKlFPS_g"
   },
   "source": [
    "## Question 7\n",
    "\n",
    "What has just happened here?"
   ]
  },
  {
   "cell_type": "markdown",
   "metadata": {
    "id": "fmTSeQl0cupJ"
   },
   "source": [
    "### Your answer to Question 7\n",
    "\n",
    "The first part is using Python to print certain words from the text. Here when excuting $\\textit{inaug[:15]}$, the program prints the first 15 words in Inaugural Address Corpus. When excuting $\\textit{inaug[-15:]}$, it prints the last 15 words in the text. Same goes for $\\textit{genesis[:15]}$ and $\\textit{genesis[-15:]}$. The notation $\\textit{[x:y]}$ is returning the values from index $x$ to index $y$. If either $x,y$ is ignored, it becomes $0$. $x$ is always smaller than or equal to $y$, therefore we write $[:15]$ for $[0:15]$ and $[-15:]$ for $[-15,0]$\n",
    "\n",
    "The second nltk method is to print all the occurances of a specific word. When excuting $\\textit{inaug.concordance(\"people\")}$, the program returns all the places where $\\textit{people}$ is found, and the adjacent words/ context. \n",
    "\n",
    "The third nltk method is $\\textit{.similar()}$. This method returns other words in similar range as the target word. For example, when excuting $\\textit{inaug.similar(\"people\")}$, we get other words appear in a similar range of the contexts. Notice this result will differ depending on the context. That's why we see different result for $\\textit{inaug.similar(\"people\")}$ and $\\textit{genesis.similar(\"people\")}$.\n",
    "\n",
    "The next part we are counting how diverse the word usage is in a text. For example, $\\textit{len(set(genesis)) / len(genesis)}$ is printing how many non-repetitive words are used in genesis. $\\textit{set()}$ in Python creates a set of non-repetitive elements. When we have words with multiple occurences in text, it will become one occurance after the $\\textit{set()}$ operation/ function. \n",
    "\n",
    "Essentially, $\\textit{type}$ means non-repetitive words, while $\\textit{token}$ means every single word in the text. \n",
    "\n",
    "Lastly, tnlk $\\textit{.count()}$ returns how many times a certain word appears. When dividing by the tokens of the text (and then multiply by 100), we get the percentage of that word in the whole text. For example, $\\textit{100 * genesis.count('the') / len(genesis)}$ shows there are $5.38\\%$ tokens in the Genesis that is \"the\"."
   ]
  },
  {
   "cell_type": "markdown",
   "metadata": {
    "id": "TD_uox6TPS_g"
   },
   "source": [
    "## Question 8-13: Self-chosen exercises\n",
    "\n",
    "If you are already confident in programming, please check out Chapters 2 and 3 of the NLTK book (https://www.nltk.org/book/ch02.html, https://www.nltk.org/book/ch03.html), choose THREE exercises that intrigue you, and answer them here.\n",
    "\n",
    "If you are NOT confident in programming, that is wonderful and okay.\n",
    "Please check out Codedacemy's free Python 2 tutorial (https://www.codecademy.com/learn/learn-python), and describe what you've been learning here.  Don't pay them for anything, but please do challenge yourself to learn as much Python as you can, aiming to spend at least 3 hours on it this week.  Time spent learning Python always pays for itself in the long run!"
   ]
  },
  {
   "cell_type": "markdown",
   "metadata": {
    "id": "TD_uox6TPS_g"
   },
   "source": [
    "#### My answer to NLTK Book Exercises\n",
    "\n",
    "$\\textit{Question 11, Ch 02}$ Investigate the table of modal distributions and look for other patterns. Try to explain them in terms of your own impressionistic understanding of the different genres. Can you find other closed classes of words that exhibit significant differences across different genres?\n",
    "\n",
    "I chose the set of universal words for this question since life events such as \"death\", \"life\", \"marriage\" is universal to all genres included below. My expectation is that $\\textit{religious}$ text has more frequency of \"love\" compared to \"hate\", and it also will have more \"life\" because Bible gives us advice to solve incidents encounter in life. I also expect $\\textit{news}$ to have the highest occurence of \"death\" since many news reports are on accidents involving casualty. I suppose $\\textit{romance}$ should have more \"love\", \"hate\" and \"marriage\", as romance usually covers how two young people meet each other, fall in love and step into marriage. I expect $\\textit{sci_fi}$ to have more \"death\", \"life\" and \"work\" since the space is cruel and travellers are lonely in the space. \n",
    "\n",
    "From the results, most of my predictions aligns with the frequency distribution. I didn't expect that $\\textit{news}$ mentions \"work\" so frequently. I'm assuming they have reports about how restaurant owners, police and fire fighters work whenever there's an incident such as earthquake, protest, or mass power outrage. $\\textit{hobby}$ category also include much more \"work\" than I expected. I assume the \"work\" here refers to works of art or crafting. $\\textit{religion}$ contains more \"death\" than I expected. Considering the Bible and the resurrection of Jesus, it makes sense to me. \n",
    "\n",
    "Overall, I find this conditional frequency distribution analysis very helpful in learning word usage of different genres. "
   ]
  },
  {
   "cell_type": "code",
   "execution_count": 48,
   "metadata": {
    "scrolled": true
   },
   "outputs": [
    {
     "name": "stdout",
     "output_type": "stream",
     "text": [
      "                    love     hate    death     life marriage     work children    magic \n",
      "           news        3        1       10       17       11       66       45        2 \n",
      "       religion       13        3       41       55        0       23        5       17 \n",
      "        hobbies        6        0        3       36        0       87       18        1 \n",
      "science_fiction        3        0        2        5        2        9        3        0 \n",
      "        romance       32        9       12       51        8       32       20        1 \n",
      "          humor        4        0        1       12        2       13       20        0 \n"
     ]
    }
   ],
   "source": [
    "from nltk.corpus import brown\n",
    "cfd = nltk.ConditionalFreqDist((genre,word)for genre in brown.categories() for word in brown.words(categories=genre))\n",
    "genres = ['news', 'religion', 'hobbies', 'science_fiction', 'romance', 'humor']\n",
    "general_words = [\"love\", \"hate\", \"death\", \"life\", \"marriage\", \"work\", \"children\",\"magic\"]\n",
    "cfd.tabulate(conditions=genres, samples=general_words)"
   ]
  },
  {
   "cell_type": "markdown",
   "metadata": {
    "id": "BZUTBm0QhUX7"
   },
   "source": [
    "$\\textit{Question 23, Ch 02}$   $\\textbf{Confirming Zipf's Law}$ \n",
    "\n",
    "Let f(w) be the frequency of a word w in free text. Suppose that all the words of a text are ranked according to their frequency, with the most frequent word first. Zipf's law states that the frequency of a word type is inversely proportional to its rank (i.e. f × r = k, for some constant k). For example, the 50th most common word type should occur three times as frequently as the 150th most common word type.\n",
    "\n",
    "I find this question interesting as I read about Zipf's Law in the article analyzing the Voynich manuscript. Most natural langauge satisfy the Zipf's law and the frequency of a word is proptional to the inversion of $rank$. The graph I plotted below resembles the graph of $f(x)=1/x$ and thus demonstrated Zipf's Law exists for sci-fi text in nltk dataset. \n",
    "\n",
    "In the next cell, I plot the randomized text and the graph doesn't match the graph of $f(x)=1/x$. This is because random text do not exihibit the Zipf's Rank Distribution Law."
   ]
  },
  {
   "cell_type": "code",
   "execution_count": 40,
   "metadata": {
    "id": "Z7qiVmCfhT_c"
   },
   "outputs": [
    {
     "name": "stdout",
     "output_type": "stream",
     "text": [
      "[Synset('house.n.01'), Synset('firm.n.01'), Synset('house.n.03'), Synset('house.n.04'), Synset('house.n.05'), Synset('house.n.06'), Synset('house.n.07'), Synset('sign_of_the_zodiac.n.01'), Synset('house.n.09'), Synset('family.n.01'), Synset('theater.n.01'), Synset('house.n.12'), Synset('house.v.01'), Synset('house.v.02')]\n",
      "['house']\n",
      "a dwelling that serves as living quarters for one or more families\n",
      "['he has a house on Cape Cod', 'she felt she had to get out of the house']\n",
      "[]\n",
      "[Synset('library.n.01'), Synset('loft.n.02'), Synset('porch.n.01'), Synset('study.n.05')]\n",
      "[]\n",
      "[]\n",
      "[]\n",
      "[]\n",
      "[Synset('food.n.01'), Synset('food.n.02'), Synset('food.n.03')]\n",
      "['food', 'nutrient']\n",
      "any substance that can be metabolized by an animal to give energy and build tissue\n",
      "[]\n",
      "[]\n",
      "[Synset('food.n.02')]\n",
      "[]\n",
      "[]\n",
      "[]\n",
      "[]\n"
     ]
    }
   ],
   "source": [
    "from nltk.corpus import wordnet as wn\n",
    "house = wn.synsets('house')\n",
    "print(house)\n",
    "house = wn.synset('house.n.01')\n",
    "print(house.lemma_names())\n",
    "print(house.definition())\n",
    "print(house.examples())\n",
    "print(house.member_meronyms())\n",
    "print(house.part_meronyms())\n",
    "print(house.substance_meronyms())\n",
    "print(house.member_holonyms())\n",
    "print(house.part_holonyms())\n",
    "print(house.substance_holonyms())\n",
    "\n",
    "food = wn.synsets('food')\n",
    "print(food)\n",
    "food = wn.synset('food.n.01')\n",
    "print(food.lemma_names())\n",
    "print(food.definition())\n",
    "print(food.examples())\n",
    "print(food.member_meronyms())\n",
    "print(food.part_meronyms())\n",
    "print(food.substance_meronyms())\n",
    "print(food.member_holonyms())\n",
    "print(food.part_holonyms())\n",
    "print(food.substance_holonyms())\n"
   ]
  },
  {
   "cell_type": "code",
   "execution_count": 70,
   "metadata": {},
   "outputs": [
    {
     "data": {
      "image/png": "[encoded data removed]",
      "text/plain": [
       "<Figure size 432x288 with 1 Axes>"
      ]
     },
     "metadata": {
      "needs_background": "light"
     },
     "output_type": "display_data"
    }
   ],
   "source": [
    "from matplotlib import pyplot\n",
    "\n",
    "def zipfs_law(text,n):\n",
    "    text_fd=nltk.FreqDist(text)\n",
    "    text_fd_common=text_fd.most_common(n)\n",
    "    freqs = [y for x,y in text_fd_common]\n",
    "    ranks = list(range(n))\n",
    "    pyplot.plot(ranks,freqs)\n",
    "\n",
    "zipfs_law(brown.words(categories='science_fiction') ,50)"
   ]
  },
  {
   "cell_type": "code",
   "execution_count": 73,
   "metadata": {},
   "outputs": [
    {
     "data": {
      "image/png": "[encoded data removed]",
      "text/plain": [
       "<Figure size 432x288 with 1 Axes>"
      ]
     },
     "metadata": {
      "needs_background": "light"
     },
     "output_type": "display_data"
    }
   ],
   "source": [
    "random_text=''\n",
    "for i in range(0,random.randrange(10000,1000000)):\n",
    "    random_text+=random.choice(\"abcdefg \")\n",
    "zipfs_law(random_text.split(' '),2000)"
   ]
  },
  {
   "cell_type": "markdown",
   "metadata": {
    "id": "TD_uox6TPS_g"
   },
   "source": [
    "$\\textit{Question 6, Ch 03}$  Describe the class of strings matched by the following regular expressions.\n",
    "\n",
    "I find this question intriguing since I'm not very good with using regular expressions.\n",
    "\n",
    "    [a-zA-Z]+\n",
    "    This regular expression shows one or more occurences of lower or upper case letters\n",
    "    \n",
    "    [A-Z][a-z]*\n",
    "    This shows capitalized words\n",
    "    \n",
    "    p[aeiou]{,2}t\n",
    "    This shows all the words that start by p, end by t, and have 2 vowels in between p and t\n",
    "    \n",
    "    \\d+(\\.\\d+)?\n",
    "    This shows float numbers, such as \"0.0\", \"1.50\". There are 1 or more digits before \".\", and one or more digits after \".\"\n",
    "    \n",
    "    ([^aeiou][aeiou][^aeiou])*\n",
    "    This shows 0 or more instances where each instance starts by a consonant, followed by a vowel, ended with a consonant. \n",
    "    \n",
    "    \\w+|[^\\w\\s]+\n",
    "     one or more instance of word or does not start with word then any whitespace character\n"
   ]
  },
  {
   "cell_type": "code",
   "execution_count": 76,
   "metadata": {},
   "outputs": [
    {
     "name": "stdout",
     "output_type": "stream",
     "text": [
      "1002 {A}20 {abBB} {A} {ACD}\n",
      "None\n",
      "{Admin} abby akare\n",
      "None\n",
      "{pout} {peit} parrot post paaaat\n",
      "None\n",
      "{98.3232} .{98} {879} f{9889}\n",
      "None\n",
      "{}T{his}{} {}s{}h{}o{}u{}l{}d{} {mat}{}c{}h{}\n",
      "None\n",
      "T{his} should {mat}ch\n",
      "None\n",
      "{98} {90734} {23} {admin}  {abby}  {Akare}\n",
      "None\n"
     ]
    }
   ],
   "source": [
    "print(nltk.re_show(r'[a-zA-Z]+',\"1002 A20 abBB A ACD\"))\n",
    "print(nltk.re_show(r'[A-Z][a-z]*',\"Admin abby akare\"))\n",
    "print(nltk.re_show(r'p[aeiou]{,2}t',\"pout peit parrot post paaaat\"))\n",
    "print(nltk.re_show(r'\\d+(\\.\\d+)?',\"98.3232 .98 879 f9889\"))\n",
    "print(nltk.re_show(r'([^aeiou][aeiou][^aeiou])*',\"This should match\"))\n",
    "print(nltk.re_show(r'([^aeiou][aeiou][^aeiou])+',\"This should match\"))\n",
    "print(nltk.re_show(r'\\w+|[^\\w\\s]+',\"98 90734 23 admin  abby  Akare\"))"
   ]
  },
  {
   "cell_type": "markdown",
   "metadata": {
    "id": "cuPxBUYPPS_g"
   },
   "source": [
    "## Question 14: Explore Stanford NLP tools\n",
    "\n",
    "\n",
    "Please explore the CoreNLP.run tool suite here (http://corenlp.run/ -- feel free also to search the web and Google Scholar for more context too).  Spend some time with it (please don't rush) and then answer the following questions.\n",
    "- What does this tool do?\n",
    "- Who built it?\n",
    "- How was it built?\n",
    "- What are some of the strengths/capabilities/affordances of this tool?\n",
    "- What are some potential limitations of this tool?  (Can you identify any cases where it makes mistakes?)"
   ]
  },
  {
   "cell_type": "markdown",
   "metadata": {
    "id": "cuPxBUYPPS_g"
   },
   "source": [
    "- What does this tool do?\n",
    "\n",
    "CoreNLP allows users to analyze the input text in 6 different languages and generates the POS taggings, Lemma, nama entity recognization, dependencies and other features of the input. \n",
    "\n",
    "- Who built it?\n",
    "\n",
    "The Stanford NLP Group\n",
    "\n",
    "- How was it built?\n",
    "\n",
    "CoreNLP runs with pipelines. The pipelines take in raw text, run a few NLP annotators and produces the annotations. \n",
    "\n",
    "- What are some of the strengths/capabilities/affordances of this tool?\n",
    "\n",
    "The tool runs on the developers' servers and allow users to get the annotations fast and accurate from the web end. It is helpful for linguistic students who don't want to download the whole model or run annotators locally to process their data online.\n",
    "\n",
    "- What are some potential limitations of this tool?  (Can you identify any cases where it makes mistakes?)\n",
    "\n",
    "When there's more than one language used in the text, this tool might produce errors. Many Victorian literature pieces use French occasionally in writing. Also the basic dependencies could be too complicated once the text becomes too long. "
   ]
  },
  {
   "cell_type": "markdown",
   "metadata": {
    "id": "ydp_JRL_PS_h"
   },
   "source": [
    "## Question 15\n",
    "\n",
    "Please explore SpaCy here (https://explosion.ai/demos/displacy -- feel free also to search the web and Google Scholar for more context too).  Spend some time with it (please don't rush) and then answer the following questions.\n",
    "- What does this tool do?\n",
    "\n",
    "This tool is an open-sourced NLP library for production use. Developers who wish to process and understand large volumes of text can use this to develop their apps. \n",
    "\n",
    "- Who built it?\n",
    "It's open-sourced. The main developers are Matthew Honnibal and Ines Montani\n",
    "\n",
    "- How was it built?\n",
    "Spacy has central data structures including Language class, Vocab and Doc object. It uses multiple pipeline components that are called in order on the Doc. Essentially, SpaCy takes in text, then apply tokenizer, parser etc in the language class, and output as data saved in Doc. \n",
    "\n",
    "- What are some of the strengths/capabilities/affordances of this tool?\n",
    "This tool is powerful when processing large amound of text data. It has detailed documentations and it's easy for beginners to pick up.\n",
    "\n",
    "- What are some potential limitations of this tool?  \n",
    "\n",
    "It's not a software or API therefore users need to download the code and run it. Also SRL tagging is only 70% accurate in most cases. It sometimes gives false tagging to words with multiple potential POS. "
   ]
  },
  {
   "cell_type": "markdown",
   "metadata": {
    "id": "OciuCv-RPS_h"
   },
   "source": [
    "## Please save your homework as html and upload it to Canvas."
   ]
  },
  {
   "cell_type": "code",
   "execution_count": null,
   "metadata": {
    "id": "9lOeNrdjPS_i"
   },
   "outputs": [],
   "source": []
  }
 ],
 "metadata": {
  "colab": {
   "name": "Homework1.ipynb",
   "provenance": []
  },
  "kernelspec": {
   "display_name": "Python 3 (ipykernel)",
   "language": "python",
   "name": "python3"
  },
  "language_info": {
   "codemirror_mode": {
    "name": "ipython",
    "version": 3
   },
   "file_extension": ".py",
   "mimetype": "text/x-python",
   "name": "python",
   "nbconvert_exporter": "python",
   "pygments_lexer": "ipython3",
   "version": "3.7.11"
  }
 },
 "nbformat": 4,
 "nbformat_minor": 1
}
